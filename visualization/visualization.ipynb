<<<<<<< HEAD
{"cells":[{"cell_type":"code","execution_count":null,"metadata":{},"outputs":[],"source":["import pandas as pd\n","\n","# reading the database\n","data = pd.read_csv(\"raw data/crimes.csv\")\n","  \n","# printing the top 10 rows\n","print(data.head(10))"]},{"cell_type":"code","execution_count":null,"metadata":{},"outputs":[],"source":["#MATHPLOT LIB\n","\n","import pandas as pd\n","import matplotlib.pyplot as plt\n","\n","\n","# reading the database\n","data = pd.read_csv(\"raw data/crimes.csv\")\n","\n","# Scatter plot with day against tip\n","plt.scatter(data['YEAR'], data['DISTRICT'])\n","\n","# Adding Title to the Plot\n","plt.title(\"Scatter Plot\")\n","\n","# Setting the X and Y labels\n","plt.xlabel('YEAR')\n","plt.ylabel('DISTRICT')\n","\n","plt.show()\n"]},{"cell_type":"code","execution_count":null,"metadata":{},"outputs":[],"source":["#SCATTER PLOT\n","\n","# reading the database\n","data = pd.read_csv(\"raw data/crimes.csv\")\n","\n","# Scatter plot with day against DISTRICT\n","plt.plot(data['DISTRICT'])\n","plt.plot(data['YEAR'])\n","\n","# Adding Title to the Plot\n","plt.title(\"Scatter Plot\")\n","\n","# Setting the X and Y labels\n","plt.xlabel('YEAR')\n","plt.ylabel('DISTRICT')\n","\n","plt.show()"]},{"cell_type":"code","execution_count":null,"metadata":{},"outputs":[],"source":["#BAR CHART\n","\n","import pandas as pd\n","import matplotlib.pyplot as plt\n","\n","# reading the database\n","data = pd.read_csv(\"raw data/crimes.csv\")\n","\n","# Bar chart with year against district\n","plt.bar(data['YEAR'], data['DISTRICT'])\n","\n","plt.title(\"Bar Chart\")\n","\n","# Setting the X and Y labels\n","plt.xlabel('YEAR')\n","plt.ylabel('DISTRICT')\n","\n","# Adding the legends\n","plt.show()\n"]},{"cell_type":"code","execution_count":null,"metadata":{},"outputs":[],"source":["#HISTOGRAM\n","\n","import pandas as pd\n","import matplotlib.pyplot as plt\n","\n","# reading the database\n","data = pd.read_csv(\"raw data/crimes.csv\")\n","\n","# histogram of STATES/UT\n","plt.hist(data['STATE/UT'])\n","\n","plt.title(\"Histogram\")\n","\n","# Adding the legends\n","plt.show()\n","\n"]},{"cell_type":"code","execution_count":null,"metadata":{},"outputs":[],"source":["#SEABORN \n","\n","# importing packages\n","import seaborn as sns\n","import matplotlib.pyplot as plt\n","import pandas as pd\n","\n","\n","# reading the database\n","data = pd.read_csv(\"raw data/crimes.csv\")\n","\n","# draw lineplot\n","sns.lineplot(x=\"STATE/UT\", y=\"DISTRICT\", data=data)\n","\n","# setting the title using Matplotlib\n","plt.title('Title using Matplotlib Function')\n","\n","plt.show()"]},{"cell_type":"code","execution_count":null,"metadata":{},"outputs":[],"source":["#SCATTER PLOT\n","\n","# reading the database\n","data = pd.read_csv(\"raw data/crimes.csv\")\n","\n","sns.scatterplot(x='YEAR', y='DISTRICT', data=data,)\n","plt.show()\n","\n","#SCATTER PLOT\n","\n","# reading the database\n","data = pd.read_csv(\"raw data/crimes.csv\")\n","\n","sns.scatterplot(x='DISTRICT', y='YEAR', data=data,\n","                hue='YEAR')\n","plt.show()\n"]},{"cell_type":"code","execution_count":null,"metadata":{},"outputs":[],"source":["#LINE PLOT\n","\n","# reading the database\n","data = pd.read_csv(\"raw data/crimes.csv\")\n","\n","sns.lineplot(x='DISTRICT', y='YEAR', data=data)\n","plt.show()"]},{"cell_type":"code","execution_count":null,"metadata":{},"outputs":[],"source":["#BAR PLOT\n","\n","\n","# reading the database\n","data = pd.read_csv(\"raw data/crimes.csv\")\n","\n","sns.barplot(x='DISTRICT',y='YEAR', data=data,\n","            hue='STATE/UT')\n","\n","plt.show()\n"]},{"cell_type":"code","execution_count":null,"metadata":{},"outputs":[],"source":["#HISTOPLOT\n","\n","# reading the database\n","data = pd.read_csv(\"raw data/crimes.csv\")\n","\n","sns.histplot(x='STATE/UT', data=data, kde=True, hue='YEAR')\n","\n","plt.show()"]},{"cell_type":"code","execution_count":null,"metadata":{},"outputs":[],"source":["#SCATTER PLOT\n","\n","# importing the modules\n","from bokeh.plotting import figure, output_file, show\n","from bokeh.palettes import magma\n","import pandas as pd\n","\n","\n","# instantiating the figure object\n","graph = figure(title = \"Bokeh Scatter Graph\")\n","\n","# reading the database\n","data = pd.read_csv(\"raw data/crimes.csv\")\n","\n","color = magma(256)\n","\n","# plotting the graph\n","graph.scatter(data['STATE/UT'], data['DISTRICT'], color=color)\n","\n","# displaying the model\n","show(graph)"]},{"cell_type":"code","execution_count":null,"metadata":{},"outputs":[],"source":["#LINE PLOT\n","\n","# importing the modules\n","from bokeh.plotting import figure, output_file, show\n","import pandas as pd\n","\n","\n","# instantiating the figure object\n","graph = figure(title = \"Bokeh Bar Chart\")\n","\n","# reading the database\n","data = pd.read_csv(\"raw data/crimes.csv\")\n","\n","# Count of each unique value of\n","# district column\n","df = data['DISTRICT'].value_counts()\n","\n","# plotting the graph\n","graph.line(df, data['DISTRICT'])\n","\n","# displaying the model\n","show(graph)"]},{"cell_type":"code","execution_count":null,"metadata":{},"outputs":[],"source":["#BAR CHART\n","\n","# importing the modules\n","from bokeh.plotting import figure, output_file, show\n","import pandas as pd\n","\n","\n","# instantiating the figure object\n","graph = figure(title = \"Bokeh Bar Chart\")\n","\n","# reading the database\n","data = pd.read_csv(\"raw data/crimes.csv\")\n","\n","# plotting the graph\n","graph.vbar(data['STATE/UT'], top=data['YEAR'])\n","\n","# displaying the model\n","show(graph)"]},{"cell_type":"code","execution_count":null,"metadata":{},"outputs":[],"source":["#INTERACTIVE DATA VISUALIZATION\n","\n","# importing the modules\n","from bokeh.plotting import figure, output_file, show\n","import pandas as pd\n","\n","\n","# instantiating the figure object\n","graph = figure(title = \"Bokeh Bar Chart\")\n","\n","# reading the database\n","data = pd.read_csv(\"raw data/crimes.csv\")\n","\n","# plotting the graph\n","graph.vbar(data['STATE/UT'], top=data['YEAR'],\n","           legend_label = \"STATE VS YEAR\", color='green')\n","\n","graph.vbar(data['YEAR'], top=data['DISTRICT'],\n","\t\tlegend_label = \"YEAR VS DISTRICT\", color='red')\n","\n","graph.legend.click_policy = \"hide\"\n","\n","# displaying the model\n","show(graph)\n"]},{"cell_type":"code","execution_count":null,"metadata":{},"outputs":[],"source":["#PLOTLY\n","\n","#SCATTER PLOT\n","\n","import plotly.express as px\n","import pandas as pd\n","\n","# reading the database\n","data = pd.read_csv(\"raw data/crimes.csv\")\n","\n","# plotting the scatter chart\n","fig = px.scatter(data, x=\"DISTRICT\", y=\"YEAR\", color='STATE/UT')\n","\n","# showing the plot\n","fig.show()"]},{"cell_type":"code","execution_count":null,"metadata":{},"outputs":[],"source":["#LINE PLOT\n","\n","import plotly.express as px\n","import pandas as pd\n","\n","# reading the database\n","data = pd.read_csv(\"raw data/crimes.csv\")\n","\n","# plotting the scatter chart\n","fig = px.line(data, y='YEAR', color='DISTRICT')\n","\n","# showing the plot\n","fig.show()"]},{"cell_type":"code","execution_count":null,"metadata":{},"outputs":[],"source":["#BAR CHART\n","\n","import plotly.express as px\n","import pandas as pd\n","\n","# reading the database\n","data = pd.read_csv(\"raw data/crimes.csv\")\n","\n","# plotting the scatter chart\n","fig = px.bar(data, x='YEAR', y='STATE/UT', color='DISTRICT')\n","\n","# showing the plot\n","fig.show()"]},{"cell_type":"code","execution_count":null,"metadata":{},"outputs":[],"source":["#HISTOGRAM\n","\n","import plotly.express as px\n","import pandas as pd\n","\n","# reading the database\n","data = pd.read_csv(\"raw data/crimes.csv\")\n","\n","# plotting the scatter chart\n","fig = px.histogram(data, x='STATE/UT', color='YEAR')\n","\n","# showing the plot\n","fig.show()\n"]}],"metadata":{"kernelspec":{"display_name":"Python 3.8.8 ('base')","language":"python","name":"python3"},"language_info":{"codemirror_mode":{"name":"ipython","version":3},"file_extension":".py","mimetype":"text/x-python","name":"python","nbconvert_exporter":"python","pygments_lexer":"ipython3","version":"3.8.8"},"orig_nbformat":4,"vscode":{"interpreter":{"hash":"dc07d24e2f18896857f0b2a651fe84ba40ce7b297e58d8804a308c8039f752a6"}}},"nbformat":4,"nbformat_minor":2}
=======
import pandas as pd

# reading the database
data = pd.read_csv("raw data/crimes.csv")
  
# printing the top 10 rows
print(data.head(10))


#MATHPLOT LIB

import pandas as pd
import matplotlib.pyplot as plt


# reading the database
data = pd.read_csv("raw data/crimes.csv")

# Scatter plot with day against tip
plt.scatter(data['YEAR'], data['DISTRICT'])

# Adding Title to the Plot
plt.title("Scatter Plot")

# Setting the X and Y labels
plt.xlabel('YEAR')
plt.ylabel('DISTRICT')

plt.show()


#SCATTER PLOT

# reading the database
data = pd.read_csv("raw data/crimes.csv")

# Scatter plot with day against DISTRICT
plt.plot(data['DISTRICT'])
plt.plot(data['YEAR'])

# Adding Title to the Plot
plt.title("Scatter Plot")

# Setting the X and Y labels
plt.xlabel('YEAR')
plt.ylabel('DISTRICT')

plt.show()


#BAR CHART

import pandas as pd
import matplotlib.pyplot as plt

# reading the database
data = pd.read_csv("raw data/crimes.csv")

# Bar chart with year against district
plt.bar(data['YEAR'], data['DISTRICT'])

plt.title("Bar Chart")

# Setting the X and Y labels
plt.xlabel('YEAR')
plt.ylabel('DISTRICT')

# Adding the legends
plt.show()

#HISTOGRAM

import pandas as pd
import matplotlib.pyplot as plt

# reading the database
data = pd.read_csv("raw data/crimes.csv")

# histogram of STATES/UT
plt.hist(data['STATE/UT'])

plt.title("Histogram")

# Adding the legends
plt.show()


#SEABORN 

# importing packages
import seaborn as sns
import matplotlib.pyplot as plt
import pandas as pd


# reading the database
data = pd.read_csv("raw data/crimes.csv")

# draw lineplot
sns.lineplot(x="STATE/UT", y="DISTRICT", data=data)

# setting the title using Matplotlib
plt.title('Title using Matplotlib Function')

plt.show()


#SCATTER PLOT

# reading the database
data = pd.read_csv("raw data/crimes.csv")

sns.scatterplot(x='YEAR', y='DISTRICT', data=data,)
plt.show()

#SCATTER PLOT

# reading the database
data = pd.read_csv("raw data/crimes.csv")

sns.scatterplot(x='DISTRICT', y='YEAR', data=data,
                hue='YEAR')
plt.show()


#LINE PLOT

# reading the database
data = pd.read_csv("raw data/crimes.csv")

sns.lineplot(x='DISTRICT', y='YEAR', data=data)
plt.show()

#BAR PLOT


# reading the database
data = pd.read_csv("raw data/crimes.csv")

sns.barplot(x='DISTRICT',y='YEAR', data=data,
            hue='STATE/UT')

plt.show()


#HISTOPLOT

# reading the database
data = pd.read_csv("raw data/crimes.csv")

sns.histplot(x='STATE/UT', data=data, kde=True, hue='YEAR')

plt.show()

#SCATTER PLOT

# importing the modules
from bokeh.plotting import figure, output_file, show
from bokeh.palettes import magma
import pandas as pd


# instantiating the figure object
graph = figure(title = "Bokeh Scatter Graph")

# reading the database
data = pd.read_csv("raw data/crimes.csv")

color = magma(256)

# plotting the graph
graph.scatter(data['STATE/UT'], data['DISTRICT'], color=color)

# displaying the model
show(graph)


#LINE PLOT

# importing the modules
from bokeh.plotting import figure, output_file, show
import pandas as pd


# instantiating the figure object
graph = figure(title = "Bokeh Bar Chart")

# reading the database
data = pd.read_csv("raw data/crimes.csv")

# Count of each unique value of
# district column
df = data['DISTRICT'].value_counts()

# plotting the graph
graph.line(df, data['DISTRICT'])

# displaying the model
show(graph)

#BAR CHART

# importing the modules
from bokeh.plotting import figure, output_file, show
import pandas as pd


# instantiating the figure object
graph = figure(title = "Bokeh Bar Chart")

# reading the database
data = pd.read_csv("raw data/crimes.csv")

# plotting the graph
graph.vbar(data['STATE/UT'], top=data['YEAR'])

# displaying the model
show(graph)


#INTERACTIVE DATA VISUALIZATION

# importing the modules
from bokeh.plotting import figure, output_file, show
import pandas as pd


# instantiating the figure object
graph = figure(title = "Bokeh Bar Chart")

# reading the database
data = pd.read_csv("raw data/crimes.csv")

# plotting the graph
graph.vbar(data['STATE/UT'], top=data['YEAR'],
           legend_label = "STATE VS YEAR", color='green')

graph.vbar(data['YEAR'], top=data['DISTRICT'],
		legend_label = "YEAR VS DISTRICT", color='red')

graph.legend.click_policy = "hide"

# displaying the model
show(graph)


#PLOTLY

#SCATTER PLOT

import plotly.express as px
import pandas as pd

# reading the database
data = pd.read_csv("raw data/crimes.csv")

# plotting the scatter chart
fig = px.scatter(data, x="DISTRICT", y="YEAR", color='STATE/UT')

# showing the plot
fig.show()

#LINE PLOT

import plotly.express as px
import pandas as pd

# reading the database
data = pd.read_csv("raw data/crimes.csv")

# plotting the scatter chart
fig = px.line(data, y='YEAR', color='DISTRICT')

# showing the plot
fig.show()


#BAR CHART

import plotly.express as px
import pandas as pd

# reading the database
data = pd.read_csv("raw data/crimes.csv")

# plotting the scatter chart
fig = px.bar(data, x='YEAR', y='STATE/UT', color='DISTRICT')

# showing the plot
fig.show()


#HISTOGRAM

import plotly.express as px
import pandas as pd

# reading the database
data = pd.read_csv("raw data/crimes.csv")

# plotting the scatter chart
fig = px.histogram(data, x='STATE/UT', color='YEAR')

# showing the plot
fig.show()



>>>>>>> ce60bd8bb183050a338aeef8a19eb6b51befd697
